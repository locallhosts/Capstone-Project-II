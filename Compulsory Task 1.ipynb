{
 "cells": [
  {
   "cell_type": "markdown",
   "metadata": {},
   "source": [
    "# Import libraries "
   ]
  },
  {
   "cell_type": "code",
   "execution_count": 37,
   "metadata": {},
   "outputs": [],
   "source": [
    "import pandas as pd\n",
    "import numpy as np\n",
    "import matplotlib.pyplot as plt\n",
    "%matplotlib inline\n",
    "from sklearn.preprocessing import StandardScaler\n",
    "from sklearn.decomposition import PCA\n",
    "from sklearn.cluster import KMeans, AgglomerativeClustering"
   ]
  },
  {
   "cell_type": "markdown",
   "metadata": {},
   "source": [
    "# Load Dataset"
   ]
  },
  {
   "cell_type": "code",
   "execution_count": 38,
   "metadata": {},
   "outputs": [
    {
     "name": "stdout",
     "output_type": "stream",
     "text": [
      "         City  Murder  Assault  UrbanPop  Rape\n",
      "0     Alabama    13.2      236        58  21.2\n",
      "1      Alaska    10.0      263        48  44.5\n",
      "2     Arizona     8.1      294        80  31.0\n",
      "3    Arkansas     8.8      190        50  19.5\n",
      "4  California     9.0      276        91  40.6\n"
     ]
    }
   ],
   "source": [
    "# Read the data from the CSV file\n",
    "data = pd.read_csv('UsArrests.csv')\n",
    "print(data.head(5))"
   ]
  },
  {
   "cell_type": "markdown",
   "metadata": {},
   "source": [
    "# Check for missing values"
   ]
  },
  {
   "cell_type": "code",
   "execution_count": 39,
   "metadata": {},
   "outputs": [
    {
     "name": "stdout",
     "output_type": "stream",
     "text": [
      "City        0\n",
      "Murder      0\n",
      "Assault     0\n",
      "UrbanPop    0\n",
      "Rape        0\n",
      "dtype: int64\n",
      "City         object\n",
      "Murder      float64\n",
      "Assault       int64\n",
      "UrbanPop      int64\n",
      "Rape        float64\n",
      "dtype: object\n"
     ]
    }
   ],
   "source": [
    "# Check for missing values\n",
    "print(data.isnull().sum())\n",
    "\n",
    "# Check the data types\n",
    "print(data.dtypes)"
   ]
  },
  {
   "cell_type": "markdown",
   "metadata": {},
   "source": [
    "# Normalize the numerical variables to ensure they are on a similar scale."
   ]
  },
  {
   "cell_type": "code",
   "execution_count": 40,
   "metadata": {},
   "outputs": [
    {
     "name": "stdout",
     "output_type": "stream",
     "text": [
      "     Murder   Assault  UrbanPop      Rape\n",
      "0  1.255179  0.790787 -0.526195 -0.003451\n",
      "1  0.513019  1.118060 -1.224067  2.509424\n",
      "2  0.072361  1.493817  1.009122  1.053466\n",
      "3  0.234708  0.233212 -1.084492 -0.186794\n",
      "4  0.281093  1.275635  1.776781  2.088814\n"
     ]
    }
   ],
   "source": [
    "# Normalize the numerical variables\n",
    "scaler = StandardScaler()\n",
    "data_scaled = scaler.fit_transform(data.iloc[:, 1:])\n",
    "\n",
    "# Remove irrelevant columns\n",
    "data_scaled = pd.DataFrame(data_scaled, columns=data.columns[1:])\n",
    "\n",
    "# Display the preprocessed data\n",
    "print(data_scaled.head())"
   ]
  },
  {
   "cell_type": "markdown",
   "metadata": {},
   "source": [
    "# Performing Principal Component Analysis (PCA) to reduce the dimensionality of the dataset."
   ]
  },
  {
   "cell_type": "code",
   "execution_count": 41,
   "metadata": {},
   "outputs": [
    {
     "name": "stdout",
     "output_type": "stream",
     "text": [
      "Explained Variance Ratio:\n",
      "[0.62006039 0.24744129 0.0891408  0.04335752]\n",
      "\n",
      "Number of Principal Components to Retain: 3\n",
      "\n",
      "PCA Results:\n",
      "        PC1       PC2       PC3\n",
      "0  0.985566  1.133392 -0.444269\n",
      "1  1.950138  1.073213  2.040003\n",
      "2  1.763164 -0.745957  0.054781\n",
      "3 -0.141420  1.119797  0.114574\n",
      "4  2.523980 -1.542934  0.598557\n"
     ]
    }
   ],
   "source": [
    "\n",
    "# Apply PCA\n",
    "pca = PCA()\n",
    "pca.fit(data_scaled)\n",
    "\n",
    "# Analyze the explained variance ratio\n",
    "explained_variance = pca.explained_variance_ratio_\n",
    "cumulative_variance = np.cumsum(explained_variance)\n",
    "\n",
    "# Determine the number of principal components to retain based on explained variance\n",
    "num_components = len(explained_variance)\n",
    "threshold = 0.95\n",
    "for i, variance in enumerate(cumulative_variance):\n",
    "    if variance >= threshold:\n",
    "        num_components = i + 1\n",
    "        break\n",
    "\n",
    "# Perform PCA with the selected number of components\n",
    "pca = PCA(n_components=num_components)\n",
    "pca_result = pca.fit_transform(data_scaled)\n",
    "\n",
    "# Create a DataFrame to store the PCA results\n",
    "pca_df = pd.DataFrame(data=pca_result, columns=[f'PC{i+1}' for i in range(num_components)])\n",
    "\n",
    "# Display the explained variance ratio and the PCA results\n",
    "print(\"Explained Variance Ratio:\")\n",
    "print(explained_variance)\n",
    "print()\n",
    "print(f\"Number of Principal Components to Retain: {num_components}\")\n",
    "print()\n",
    "print(\"PCA Results:\")\n",
    "print(pca_df.head())\n"
   ]
  },
  {
   "cell_type": "markdown",
   "metadata": {},
   "source": [
    "The code above applies PCA to the preprocessed data using the PCA class from scikit-learn. It calculates the explained variance ratio and cumulative variance to understand the amount of information captured by each principal component. The number of principal components to retain is determined based on a threshold of 0.95 for cumulative variance. Finally, PCA is performed with the selected number of components, and the results are stored in the pca_df DataFrame"
   ]
  },
  {
   "cell_type": "markdown",
   "metadata": {},
   "source": [
    "# To  interpret the principal components and identify the variables that contribute the most to each component."
   ]
  },
  {
   "cell_type": "code",
   "execution_count": 42,
   "metadata": {},
   "outputs": [
    {
     "name": "stdout",
     "output_type": "stream",
     "text": [
      "Principal Component Loadings:\n",
      "     Murder   Assault  UrbanPop      Rape\n",
      "0  0.535899  0.583184  0.278191  0.543432\n",
      "1  0.418181  0.187986 -0.872806 -0.167319\n",
      "2 -0.341233 -0.268148 -0.378016  0.817778\n",
      "\n",
      "Top Contributing Variables:\n",
      "PC1: Assault\n",
      "PC2: UrbanPop\n",
      "PC3: Rape\n"
     ]
    }
   ],
   "source": [
    "# Analyze the loadings of each principal component\n",
    "loadings = pd.DataFrame(data=pca.components_, columns=data_scaled.columns)\n",
    "\n",
    "# Display the loadings\n",
    "print(\"Principal Component Loadings:\")\n",
    "print(loadings)\n",
    "\n",
    "# Identify the variables contributing the most to each principal component\n",
    "top_variables = loadings.abs().idxmax(axis=1)\n",
    "\n",
    "# Display the top contributing variables for each principal component\n",
    "print(\"\\nTop Contributing Variables:\")\n",
    "for i, variable in enumerate(top_variables):\n",
    "    print(f\"PC{i+1}: {variable}\")\n"
   ]
  },
  {
   "cell_type": "markdown",
   "metadata": {},
   "source": [
    "The code above analyzes the loadings of each principal component and stores them in the loadings DataFrame. It then identifies the variables that contribute the most to each principal component by finding the maximum absolute loading for each component. The top contributing variables for each principal component are displayed"
   ]
  },
  {
   "cell_type": "markdown",
   "metadata": {},
   "source": [
    "# To  apply clustering techniques to the dataset."
   ]
  },
  {
   "cell_type": "markdown",
   "metadata": {},
   "source": [
    "Before applying clustering algorithms, it's important to determine the optimal number of clusters. However, since the task does not specify the desired number of clusters, we will assume 2 clusters for demonstration purposes."
   ]
  },
  {
   "cell_type": "code",
   "execution_count": 43,
   "metadata": {},
   "outputs": [
    {
     "name": "stdout",
     "output_type": "stream",
     "text": [
      "PCA Results with Cluster Labels:\n",
      "        PC1       PC2       PC3  KMeans Cluster  Hierarchical Cluster\n",
      "0  0.985566  1.133392 -0.444269               1                     1\n",
      "1  1.950138  1.073213  2.040003               1                     1\n",
      "2  1.763164 -0.745957  0.054781               1                     1\n",
      "3 -0.141420  1.119797  0.114574               0                     0\n",
      "4  2.523980 -1.542934  0.598557               1                     1\n"
     ]
    }
   ],
   "source": [
    "\n",
    "# Apply K-means clustering\n",
    "kmeans = KMeans(n_clusters=2, random_state=42)\n",
    "kmeans_labels = kmeans.fit_predict(data_scaled)\n",
    "\n",
    "# Apply hierarchical clustering\n",
    "hierarchical = AgglomerativeClustering(n_clusters=2)\n",
    "hierarchical_labels = hierarchical.fit_predict(data_scaled)\n",
    "\n",
    "# Add the cluster labels to the PCA results DataFrame\n",
    "pca_df['KMeans Cluster'] = kmeans_labels\n",
    "pca_df['Hierarchical Cluster'] = hierarchical_labels\n",
    "\n",
    "# Display the updated PCA results with cluster labels\n",
    "print(\"PCA Results with Cluster Labels:\")\n",
    "print(pca_df.head())\n"
   ]
  },
  {
   "cell_type": "markdown",
   "metadata": {},
   "source": [
    "In the code above, we apply two clustering algorithms: K-means and hierarchical clustering. We set the number of clusters to 2"
   ]
  },
  {
   "cell_type": "code",
   "execution_count": 48,
   "metadata": {},
   "outputs": [
    {
     "name": "stdout",
     "output_type": "stream",
     "text": [
      "K-means Clustering Results:\n",
      "                     PC1       PC2       PC3  Hierarchical Cluster\n",
      "KMeans Cluster                                                    \n",
      "0              -1.107818 -0.199783 -0.002132                  0.00\n",
      "1               1.661727  0.299674  0.003198                  0.95\n",
      "\n",
      "Hierarchical Clustering Results:\n",
      "                           PC1       PC2       PC3  KMeans Cluster\n",
      "Hierarchical Cluster                                              \n",
      "0                    -1.049605 -0.201834  0.010112        0.032258\n",
      "1                     1.712513  0.329307 -0.016499        1.000000\n"
     ]
    }
   ],
   "source": [
    "# Analyze K-means clustering results\n",
    "kmeans_cluster_means = pca_df.groupby('KMeans Cluster').mean()\n",
    "print(\"K-means Clustering Results:\")\n",
    "print(kmeans_cluster_means)\n",
    "\n",
    "# Analyze hierarchical clustering results\n",
    "hierarchical_cluster_means = pca_df.groupby('Hierarchical Cluster').mean()\n",
    "print(\"\\nHierarchical Clustering Results:\")\n",
    "print(hierarchical_cluster_means)\n"
   ]
  },
  {
   "cell_type": "markdown",
   "metadata": {},
   "source": [
    "# Visualization plot of the PCA results with cluster labels"
   ]
  },
  {
   "cell_type": "code",
   "execution_count": 51,
   "metadata": {},
   "outputs": [
    {
     "data": {
      "image/png": "[encoded data removed]",
      "text/plain": [
       "<Figure size 640x480 with 1 Axes>"
      ]
     },
     "metadata": {},
     "output_type": "display_data"
    },
    {
     "data": {
      "image/png": "[encoded data removed]",
      "text/plain": [
       "<Figure size 640x480 with 1 Axes>"
      ]
     },
     "metadata": {},
     "output_type": "display_data"
    }
   ],
   "source": [
    "# Visualization: Scatter plot of the PCA results with cluster labels\n",
    "plt.scatter(pca_df['PC1'], pca_df['PC2'], c=pca_df['KMeans Cluster'])\n",
    "plt.xlabel('PC1')\n",
    "plt.ylabel('PC2')\n",
    "plt.title('K-means Clustering')\n",
    "plt.show()\n",
    "\n",
    "plt.scatter(pca_df['PC1'], pca_df['PC2'], c=pca_df['Hierarchical Cluster'])\n",
    "plt.xlabel('PC1')\n",
    "plt.ylabel('PC2')\n",
    "plt.title('Hierarchical Clustering')\n",
    "plt.show()"
   ]
  },
  {
   "cell_type": "markdown",
   "metadata": {},
   "source": [
    "# Analysis of clustering results: Calculate average values of variables"
   ]
  },
  {
   "cell_type": "code",
   "execution_count": 52,
   "metadata": {},
   "outputs": [
    {
     "name": "stdout",
     "output_type": "stream",
     "text": [
      "K-means Clustering Results:\n",
      "                Murder     Assault   UrbanPop       Rape\n",
      "KMeans Cluster                                          \n",
      "0                4.870  114.433333  63.633333  15.943333\n",
      "1               12.165  255.250000  68.400000  29.165000\n",
      "\n",
      "Hierarchical Clustering Results:\n",
      "                         Murder     Assault   UrbanPop       Rape\n",
      "Hierarchical Cluster                                             \n",
      "0                      5.003226  116.483871  63.838710  16.338710\n",
      "1                     12.331579  259.315789  68.315789  29.215789\n"
     ]
    }
   ],
   "source": [
    "# Analysis of clustering results: Calculate average values of variables within each cluster\n",
    "cluster_avg = data.groupby(pca_df['KMeans Cluster']).mean()\n",
    "print(\"K-means Clustering Results:\")\n",
    "print(cluster_avg)\n",
    "\n",
    "cluster_avg = data.groupby(pca_df['Hierarchical Cluster']).mean()\n",
    "print(\"\\nHierarchical Clustering Results:\")\n",
    "print(cluster_avg)"
   ]
  },
  {
   "cell_type": "markdown",
   "metadata": {},
   "source": [
    "# Analysis of clustering results.\n",
    " \n",
    "# K-means Clustering Results:\n",
    "\n",
    " - Cluster 0: This cluster has lower average values for Murder, Assault, and Rape compared to Cluster 1. It also has a slightly lower average UrbanPop value. States in this cluster may represent regions with relatively lower crime rates and a lower percentage of the population living in urban areas.\n",
    " \n",
    " - Cluster 1: This cluster has higher average values for Murder, Assault, and Rape compared to Cluster 0. It also has a slightly higher average UrbanPop value. States in this cluster may represent regions with relatively higher crime rates and a higher percentage of the population living in urban areas.\n",
    " \n",
    "# Hierarchical Clustering Results:\n",
    " \n",
    " - Cluster 0: This cluster has similar characteristics to Cluster 0 in the K-means results. It has lower average values for Murder, Assault, and Rape compared to Cluster 1, indicating regions with relatively lower crime rates and a lower percentage of the population living in urban areas.\n",
    " \n",
    " These findings suggest that the clustering algorithms have identified two main groups of states: one with relatively lower crime rates and a lower urban population, and another with relatively higher crime rates and a higher urban population.\n",
    " \n",
    "To gain more insights, you can further analyze the clusters by comparing the average values of other variables or visualizing the clusters using different techniques such as scatter plots or bar charts.\n"
   ]
  },
  {
   "cell_type": "markdown",
   "metadata": {},
   "source": []
  }
 ],
 "metadata": {
  "kernelspec": {
   "display_name": "Python 3 (ipykernel)",
   "language": "python",
   "name": "python3"
  },
  "language_info": {
   "codemirror_mode": {
    "name": "ipython",
    "version": 3
   },
   "file_extension": ".py",
   "mimetype": "text/x-python",
   "name": "python",
   "nbconvert_exporter": "python",
   "pygments_lexer": "ipython3",
   "version": "3.9.13"
  }
 },
 "nbformat": 4,
 "nbformat_minor": 2
}
